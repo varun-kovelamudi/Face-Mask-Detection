{
  "nbformat": 4,
  "nbformat_minor": 0,
  "metadata": {
    "colab": {
      "provenance": [],
      "authorship_tag": "ABX9TyOkyxxCqB6pxRaFh/Y5sp3D",
      "include_colab_link": true
    },
    "kernelspec": {
      "name": "python3",
      "display_name": "Python 3"
    },
    "language_info": {
      "name": "python"
    }
  },
  "cells": [
    {
      "cell_type": "markdown",
      "metadata": {
        "id": "view-in-github",
        "colab_type": "text"
      },
      "source": [
        "<a href=\"https://colab.research.google.com/github/varun-kovelamudi/Face-Mask-Detection/blob/main/Cameretest.ipynb\" target=\"_parent\"><img src=\"https://colab.research.google.com/assets/colab-badge.svg\" alt=\"Open In Colab\"/></a>"
      ]
    },
    {
      "cell_type": "code",
      "execution_count": null,
      "metadata": {
        "id": "TV0h6VgRfHCY"
      },
      "outputs": [],
      "source": [
        "import cv2\n",
        "\n",
        "cap = cv2.VideoCapture(0)  # 0 is usually the default camera\n",
        "\n",
        "if not cap.isOpened():\n",
        "    print(\"Cannot open camera\")\n",
        "else:\n",
        "    ret, frame = cap.read()\n",
        "    if ret:\n",
        "        cv2.imshow('Camera Test', frame)\n",
        "        cv2.waitKey(0)  # Wait for a key press to close\n",
        "    else:\n",
        "        print(\"Can't receive frame (stream end?). Exiting ...\")\n",
        "\n",
        "cap.release()\n",
        "cv2.destroyAllWindows()\n"
      ]
    }
  ]
}