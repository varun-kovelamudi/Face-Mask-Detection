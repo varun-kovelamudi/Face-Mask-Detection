{
  "nbformat": 4,
  "nbformat_minor": 0,
  "metadata": {
    "colab": {
      "provenance": [],
      "machine_shape": "hm",
      "gpuType": "L4",
      "mount_file_id": "1nxCXJGyKfeJNuYAz_KhyFeAah_TZaxOC",
      "authorship_tag": "ABX9TyPtM5nNQCgYHgtc2Hk74dhG",
      "include_colab_link": true
    },
    "kernelspec": {
      "name": "python3",
      "display_name": "Python 3"
    },
    "language_info": {
      "name": "python"
    },
    "accelerator": "GPU"
  },
  "cells": [
    {
      "cell_type": "markdown",
      "metadata": {
        "id": "view-in-github",
        "colab_type": "text"
      },
      "source": [
        "<a href=\"https://colab.research.google.com/github/varun-kovelamudi/Face-Mask-Detection/blob/main/datasplit.ipynb\" target=\"_parent\"><img src=\"https://colab.research.google.com/assets/colab-badge.svg\" alt=\"Open In Colab\"/></a>"
      ]
    },
    {
      "cell_type": "code",
      "execution_count": null,
      "metadata": {
        "id": "b93kC2TG3NO0"
      },
      "outputs": [],
      "source": [
        "import os\n",
        "import cv2\n",
        "import time\n",
        "import pandas as pd\n",
        "import numpy as np\n",
        "from PIL import Image\n",
        "import matplotlib.pyplot as plt\n",
        "import tensorflow.keras\n",
        "from tensorflow.keras.models import Sequential\n",
        "from tensorflow.keras.layers import Conv2D, MaxPooling2D, Flatten, Dense, Dropout\n",
        "from tensorflow.keras.preprocessing.image import ImageDataGenerator\n",
        "from tensorflow.keras.callbacks import EarlyStopping\n",
        "from tensorflow.keras.callbacks import ModelCheckpoint\n",
        "import shutil\n",
        "import os\n",
        "\n",
        "\n",
        "dataset_path = r\"/content/drive/MyDrive/FMD_DATASET\"\n",
        "# Define the categories\n",
        "categories = ['without_mask',\n",
        "              'with_mask']"
      ]
    },
    {
      "cell_type": "code",
      "source": [
        "\n",
        "import os\n",
        "import shutil\n",
        "from sklearn.model_selection import train_test_split\n",
        "\n",
        "# Specify the directory containing your dataset\n",
        "dataset_path = \"/content/drive/MyDrive/FMD_DATASET\"\n",
        "\n",
        "# Define paths for train and test directories\n",
        "train_dir = \"/content/drive/MyDrive/train_data\"\n",
        "test_dir = \"/content/drive/MyDrive/test_data\"\n",
        "\n",
        "# Create train and test directories if they don't exist\n",
        "os.makedirs(train_dir, exist_ok=True)\n",
        "os.makedirs(test_dir, exist_ok=True)\n",
        "\n",
        "# Function to recursively get all files in a directory\n",
        "def get_files(directory):\n",
        "    files = []\n",
        "    for root, dirs, filenames in os.walk(directory):\n",
        "        for filename in filenames:\n",
        "            files.append(os.path.join(root, filename))\n",
        "    return files\n",
        "\n",
        "# Get list of all image files in the dataset directory\n",
        "image_files = get_files(dataset_path)\n",
        "\n",
        "# Splitting the dataset into training and testing sets (e.g., 80% train, 20% test)\n",
        "train_files, test_files = train_test_split(image_files, test_size=0.2, random_state=42)\n",
        "\n",
        "# Move training images to the train directory\n",
        "for filename in train_files:\n",
        "    # Extract class, category, and subcategory information from the filename\n",
        "    class_name = os.path.basename(os.path.dirname(os.path.dirname(filename)))\n",
        "    category_name = os.path.basename(os.path.dirname(filename))\n",
        "    subcategory_name = os.path.basename(filename)\n",
        "    dst_dir = os.path.join(train_dir, class_name, category_name)\n",
        "    os.makedirs(dst_dir, exist_ok=True)\n",
        "    dst = os.path.join(dst_dir, subcategory_name)\n",
        "    shutil.copy(filename, dst)\n",
        "\n",
        "# Move testing images to the test directory\n",
        "for filename in test_files:\n",
        "    # Extract class, category, and subcategory information from the filename\n",
        "    class_name = os.path.basename(os.path.dirname(os.path.dirname(filename)))\n",
        "    category_name = os.path.basename(os.path.dirname(filename))\n",
        "    subcategory_name = os.path.basename(filename)\n",
        "    dst_dir = os.path.join(test_dir, class_name, category_name)\n",
        "    os.makedirs(dst_dir, exist_ok=True)\n",
        "    dst = os.path.join(dst_dir, subcategory_name)\n",
        "    shutil.copy(filename, dst)\n"
      ],
      "metadata": {
        "id": "Ib6hOxHp6wCb"
      },
      "execution_count": null,
      "outputs": []
    }
  ]
}