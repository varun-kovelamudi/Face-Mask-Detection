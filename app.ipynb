{
  "nbformat": 4,
  "nbformat_minor": 0,
  "metadata": {
    "colab": {
      "provenance": [],
      "mount_file_id": "11IDApHTdGBSixUEjitQpRf7TUYoic__7",
      "authorship_tag": "ABX9TyPt1GVT8h2EYKfZ0kOK5KIz",
      "include_colab_link": true
    },
    "kernelspec": {
      "name": "python3",
      "display_name": "Python 3"
    },
    "language_info": {
      "name": "python"
    }
  },
  "cells": [
    {
      "cell_type": "markdown",
      "metadata": {
        "id": "view-in-github",
        "colab_type": "text"
      },
      "source": [
        "<a href=\"https://colab.research.google.com/github/varun-kovelamudi/Face-Mask-Detection/blob/main/app.ipynb\" target=\"_parent\"><img src=\"https://colab.research.google.com/assets/colab-badge.svg\" alt=\"Open In Colab\"/></a>"
      ]
    },
    {
      "cell_type": "code",
      "execution_count": 3,
      "metadata": {
        "id": "m4WfzPgsflZA"
      },
      "outputs": [],
      "source": [
        "\n",
        "import cv2\n",
        "import numpy as np\n",
        "import tensorflow as tf\n",
        "from tensorflow.keras.models import load_model\n",
        "from tensorflow.keras.preprocessing.image import img_to_array\n",
        "\n",
        "# Load the pre-trained model\n",
        "model_path = r'models/best_cnnbasic_model'\n",
        "model = load_model(model_path)\n",
        "\n",
        "# Initialize video capture (0 for the default webcam, or 'path_to_video' for using a file)\n",
        "cap = cv2.VideoCapture(0)\n",
        "\n",
        "# Load a pre-trained face detector from OpenCV\n",
        "face_cascade = cv2.CascadeClassifier(cv2.data.haarcascades + 'haarcascade_frontalface_default.xml')\n",
        "\n",
        "while True:\n",
        "    # Capture frame-by-frame\n",
        "    ret, frame = cap.read()\n",
        "    if not ret:\n",
        "        break\n",
        "\n",
        "    # Convert the frame to grayscale (required for face detection)\n",
        "    gray = cv2.cvtColor(frame, cv2.COLOR_BGR2GRAY)\n",
        "\n",
        "    # Detect faces in the image\n",
        "    faces = face_cascade.detectMultiScale(gray, scaleFactor=1.1, minNeighbors=5, minSize=(30, 30))\n",
        "\n",
        "    # Process each face found\n",
        "    for (x, y, w, h) in faces:\n",
        "        # Extract the face ROI\n",
        "        face_roi = frame[y:y+h, x:x+w]\n",
        "        # Resize the face ROI to the target size required by the model\n",
        "        resized_face = cv2.resize(face_roi, (320, 320))\n",
        "        # Preprocess the face ROI\n",
        "        face_array = img_to_array(resized_face) / 255.0\n",
        "        face_array = np.expand_dims(face_array, axis=0)\n",
        "\n",
        "        # Make prediction\n",
        "        prediction = model.predict(face_array)\n",
        "        # Interpret the prediction\n",
        "        label = 'No Mask' if prediction < 0.5 else 'With Mask'\n",
        "\n",
        "        # Draw the face bounding box and label on the frame\n",
        "        cv2.rectangle(frame, (x, y), (x+w, y+h), (0, 255, 0), 2)\n",
        "        cv2.putText(frame, label, (x, y-10), cv2.FONT_HERSHEY_SIMPLEX, 0.9, (0, 255, 0), 2)\n",
        "\n",
        "    # Display the resulting frame\n",
        "    cv2.imshow('Face Mask Detection', frame)\n",
        "\n",
        "    # Break the loop when 'q' is pressed\n",
        "    if cv2.waitKey(1) & 0xFF == ord('q'):\n",
        "        break\n",
        "\n",
        "# When everything is done, release the capture\n",
        "cap.release()\n",
        "cv2.destroyAllWindows()\n"
      ]
    }
  ]
}
